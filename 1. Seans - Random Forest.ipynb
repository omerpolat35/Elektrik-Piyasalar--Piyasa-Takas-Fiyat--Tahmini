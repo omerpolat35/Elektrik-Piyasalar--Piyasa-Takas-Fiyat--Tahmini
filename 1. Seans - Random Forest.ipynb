{
 "cells": [
  {
   "cell_type": "code",
   "execution_count": 1,
   "id": "f8f70f00",
   "metadata": {},
   "outputs": [],
   "source": [
    "import numpy as np  \n",
    "import pandas as pd \n",
    "import matplotlib.pyplot as plt \n",
    "import seaborn as sbn \n",
    "from sklearn.model_selection import train_test_split \n",
    "from sklearn.preprocessing import MinMaxScaler "
   ]
  },
  {
   "cell_type": "code",
   "execution_count": 2,
   "id": "1e785575",
   "metadata": {},
   "outputs": [
    {
     "data": {
      "text/html": [
       "<div>\n",
       "<style scoped>\n",
       "    .dataframe tbody tr th:only-of-type {\n",
       "        vertical-align: middle;\n",
       "    }\n",
       "\n",
       "    .dataframe tbody tr th {\n",
       "        vertical-align: top;\n",
       "    }\n",
       "\n",
       "    .dataframe thead th {\n",
       "        text-align: right;\n",
       "    }\n",
       "</style>\n",
       "<table border=\"1\" class=\"dataframe\">\n",
       "  <thead>\n",
       "    <tr style=\"text-align: right;\">\n",
       "      <th></th>\n",
       "      <th>period</th>\n",
       "      <th>demand</th>\n",
       "      <th>marketPrice</th>\n",
       "      <th>oldMarketPrace</th>\n",
       "      <th>player kazanma</th>\n",
       "      <th>Player1</th>\n",
       "      <th>Player2</th>\n",
       "      <th>Player3</th>\n",
       "      <th>Player4</th>\n",
       "      <th>Player5</th>\n",
       "      <th>...</th>\n",
       "      <th>to_build_period</th>\n",
       "      <th>operation_period</th>\n",
       "      <th>fc_Urn</th>\n",
       "      <th>fc_Coal</th>\n",
       "      <th>fc_Gas</th>\n",
       "      <th>fc_Bio</th>\n",
       "      <th>cc_Urn</th>\n",
       "      <th>cc_Coal</th>\n",
       "      <th>cc_Gas</th>\n",
       "      <th>cc_Bio</th>\n",
       "    </tr>\n",
       "  </thead>\n",
       "  <tbody>\n",
       "    <tr>\n",
       "      <th>0</th>\n",
       "      <td>1</td>\n",
       "      <td>26640</td>\n",
       "      <td>155</td>\n",
       "      <td>0</td>\n",
       "      <td>1</td>\n",
       "      <td>0</td>\n",
       "      <td>0</td>\n",
       "      <td>0</td>\n",
       "      <td>0</td>\n",
       "      <td>0</td>\n",
       "      <td>...</td>\n",
       "      <td>2.0</td>\n",
       "      <td>7.0</td>\n",
       "      <td>1.00</td>\n",
       "      <td>4.00</td>\n",
       "      <td>9.00</td>\n",
       "      <td>3.00</td>\n",
       "      <td>0</td>\n",
       "      <td>2.000</td>\n",
       "      <td>2.0000</td>\n",
       "      <td>0.5000</td>\n",
       "    </tr>\n",
       "    <tr>\n",
       "      <th>1</th>\n",
       "      <td>1</td>\n",
       "      <td>26640</td>\n",
       "      <td>155</td>\n",
       "      <td>0</td>\n",
       "      <td>1</td>\n",
       "      <td>0</td>\n",
       "      <td>0</td>\n",
       "      <td>0</td>\n",
       "      <td>0</td>\n",
       "      <td>0</td>\n",
       "      <td>...</td>\n",
       "      <td>2.0</td>\n",
       "      <td>7.0</td>\n",
       "      <td>1.00</td>\n",
       "      <td>4.00</td>\n",
       "      <td>9.00</td>\n",
       "      <td>3.00</td>\n",
       "      <td>0</td>\n",
       "      <td>2.000</td>\n",
       "      <td>2.0000</td>\n",
       "      <td>0.5000</td>\n",
       "    </tr>\n",
       "    <tr>\n",
       "      <th>2</th>\n",
       "      <td>1</td>\n",
       "      <td>26640</td>\n",
       "      <td>155</td>\n",
       "      <td>0</td>\n",
       "      <td>1</td>\n",
       "      <td>0</td>\n",
       "      <td>0</td>\n",
       "      <td>0</td>\n",
       "      <td>0</td>\n",
       "      <td>0</td>\n",
       "      <td>...</td>\n",
       "      <td>2.0</td>\n",
       "      <td>7.0</td>\n",
       "      <td>1.00</td>\n",
       "      <td>4.00</td>\n",
       "      <td>9.00</td>\n",
       "      <td>3.00</td>\n",
       "      <td>0</td>\n",
       "      <td>2.000</td>\n",
       "      <td>2.0000</td>\n",
       "      <td>0.5000</td>\n",
       "    </tr>\n",
       "    <tr>\n",
       "      <th>3</th>\n",
       "      <td>1</td>\n",
       "      <td>26640</td>\n",
       "      <td>155</td>\n",
       "      <td>0</td>\n",
       "      <td>1</td>\n",
       "      <td>0</td>\n",
       "      <td>0</td>\n",
       "      <td>0</td>\n",
       "      <td>0</td>\n",
       "      <td>0</td>\n",
       "      <td>...</td>\n",
       "      <td>2.0</td>\n",
       "      <td>7.0</td>\n",
       "      <td>1.00</td>\n",
       "      <td>4.00</td>\n",
       "      <td>9.00</td>\n",
       "      <td>3.00</td>\n",
       "      <td>0</td>\n",
       "      <td>2.000</td>\n",
       "      <td>2.0000</td>\n",
       "      <td>0.5000</td>\n",
       "    </tr>\n",
       "    <tr>\n",
       "      <th>4</th>\n",
       "      <td>1</td>\n",
       "      <td>26640</td>\n",
       "      <td>155</td>\n",
       "      <td>0</td>\n",
       "      <td>1</td>\n",
       "      <td>0</td>\n",
       "      <td>0</td>\n",
       "      <td>0</td>\n",
       "      <td>0</td>\n",
       "      <td>0</td>\n",
       "      <td>...</td>\n",
       "      <td>2.0</td>\n",
       "      <td>7.0</td>\n",
       "      <td>1.00</td>\n",
       "      <td>4.00</td>\n",
       "      <td>9.00</td>\n",
       "      <td>3.00</td>\n",
       "      <td>0</td>\n",
       "      <td>2.000</td>\n",
       "      <td>2.0000</td>\n",
       "      <td>0.5000</td>\n",
       "    </tr>\n",
       "    <tr>\n",
       "      <th>...</th>\n",
       "      <td>...</td>\n",
       "      <td>...</td>\n",
       "      <td>...</td>\n",
       "      <td>...</td>\n",
       "      <td>...</td>\n",
       "      <td>...</td>\n",
       "      <td>...</td>\n",
       "      <td>...</td>\n",
       "      <td>...</td>\n",
       "      <td>...</td>\n",
       "      <td>...</td>\n",
       "      <td>...</td>\n",
       "      <td>...</td>\n",
       "      <td>...</td>\n",
       "      <td>...</td>\n",
       "      <td>...</td>\n",
       "      <td>...</td>\n",
       "      <td>...</td>\n",
       "      <td>...</td>\n",
       "      <td>...</td>\n",
       "      <td>...</td>\n",
       "    </tr>\n",
       "    <tr>\n",
       "      <th>3972</th>\n",
       "      <td>32</td>\n",
       "      <td>246444</td>\n",
       "      <td>200</td>\n",
       "      <td>200</td>\n",
       "      <td>1</td>\n",
       "      <td>0</td>\n",
       "      <td>0</td>\n",
       "      <td>1</td>\n",
       "      <td>0</td>\n",
       "      <td>0</td>\n",
       "      <td>...</td>\n",
       "      <td>2.0</td>\n",
       "      <td>7.0</td>\n",
       "      <td>3.12</td>\n",
       "      <td>15.32</td>\n",
       "      <td>99.99</td>\n",
       "      <td>5.22</td>\n",
       "      <td>0</td>\n",
       "      <td>7.646</td>\n",
       "      <td>9.9999</td>\n",
       "      <td>0.8724</td>\n",
       "    </tr>\n",
       "    <tr>\n",
       "      <th>3973</th>\n",
       "      <td>32</td>\n",
       "      <td>246444</td>\n",
       "      <td>200</td>\n",
       "      <td>200</td>\n",
       "      <td>1</td>\n",
       "      <td>1</td>\n",
       "      <td>0</td>\n",
       "      <td>0</td>\n",
       "      <td>0</td>\n",
       "      <td>0</td>\n",
       "      <td>...</td>\n",
       "      <td>NaN</td>\n",
       "      <td>NaN</td>\n",
       "      <td>3.12</td>\n",
       "      <td>15.32</td>\n",
       "      <td>99.99</td>\n",
       "      <td>5.22</td>\n",
       "      <td>0</td>\n",
       "      <td>7.646</td>\n",
       "      <td>9.9999</td>\n",
       "      <td>0.8724</td>\n",
       "    </tr>\n",
       "    <tr>\n",
       "      <th>3974</th>\n",
       "      <td>32</td>\n",
       "      <td>246444</td>\n",
       "      <td>200</td>\n",
       "      <td>200</td>\n",
       "      <td>1</td>\n",
       "      <td>0</td>\n",
       "      <td>0</td>\n",
       "      <td>1</td>\n",
       "      <td>0</td>\n",
       "      <td>0</td>\n",
       "      <td>...</td>\n",
       "      <td>NaN</td>\n",
       "      <td>NaN</td>\n",
       "      <td>3.12</td>\n",
       "      <td>15.32</td>\n",
       "      <td>99.99</td>\n",
       "      <td>5.22</td>\n",
       "      <td>0</td>\n",
       "      <td>7.646</td>\n",
       "      <td>9.9999</td>\n",
       "      <td>0.8724</td>\n",
       "    </tr>\n",
       "    <tr>\n",
       "      <th>3975</th>\n",
       "      <td>32</td>\n",
       "      <td>246444</td>\n",
       "      <td>200</td>\n",
       "      <td>200</td>\n",
       "      <td>1</td>\n",
       "      <td>0</td>\n",
       "      <td>0</td>\n",
       "      <td>1</td>\n",
       "      <td>0</td>\n",
       "      <td>0</td>\n",
       "      <td>...</td>\n",
       "      <td>NaN</td>\n",
       "      <td>NaN</td>\n",
       "      <td>3.12</td>\n",
       "      <td>15.32</td>\n",
       "      <td>99.99</td>\n",
       "      <td>5.22</td>\n",
       "      <td>0</td>\n",
       "      <td>7.646</td>\n",
       "      <td>9.9999</td>\n",
       "      <td>0.8724</td>\n",
       "    </tr>\n",
       "    <tr>\n",
       "      <th>3976</th>\n",
       "      <td>32</td>\n",
       "      <td>246444</td>\n",
       "      <td>200</td>\n",
       "      <td>200</td>\n",
       "      <td>1</td>\n",
       "      <td>0</td>\n",
       "      <td>0</td>\n",
       "      <td>0</td>\n",
       "      <td>0</td>\n",
       "      <td>0</td>\n",
       "      <td>...</td>\n",
       "      <td>NaN</td>\n",
       "      <td>NaN</td>\n",
       "      <td>3.12</td>\n",
       "      <td>15.32</td>\n",
       "      <td>99.99</td>\n",
       "      <td>5.22</td>\n",
       "      <td>0</td>\n",
       "      <td>7.646</td>\n",
       "      <td>9.9999</td>\n",
       "      <td>0.8724</td>\n",
       "    </tr>\n",
       "  </tbody>\n",
       "</table>\n",
       "<p>3977 rows × 70 columns</p>\n",
       "</div>"
      ],
      "text/plain": [
       "      period  demand  marketPrice  oldMarketPrace  player kazanma  Player1  \\\n",
       "0          1   26640          155               0               1        0   \n",
       "1          1   26640          155               0               1        0   \n",
       "2          1   26640          155               0               1        0   \n",
       "3          1   26640          155               0               1        0   \n",
       "4          1   26640          155               0               1        0   \n",
       "...      ...     ...          ...             ...             ...      ...   \n",
       "3972      32  246444          200             200               1        0   \n",
       "3973      32  246444          200             200               1        1   \n",
       "3974      32  246444          200             200               1        0   \n",
       "3975      32  246444          200             200               1        0   \n",
       "3976      32  246444          200             200               1        0   \n",
       "\n",
       "      Player2  Player3  Player4  Player5  ...  to_build_period  \\\n",
       "0           0        0        0        0  ...              2.0   \n",
       "1           0        0        0        0  ...              2.0   \n",
       "2           0        0        0        0  ...              2.0   \n",
       "3           0        0        0        0  ...              2.0   \n",
       "4           0        0        0        0  ...              2.0   \n",
       "...       ...      ...      ...      ...  ...              ...   \n",
       "3972        0        1        0        0  ...              2.0   \n",
       "3973        0        0        0        0  ...              NaN   \n",
       "3974        0        1        0        0  ...              NaN   \n",
       "3975        0        1        0        0  ...              NaN   \n",
       "3976        0        0        0        0  ...              NaN   \n",
       "\n",
       "      operation_period  fc_Urn  fc_Coal  fc_Gas  fc_Bio  cc_Urn  cc_Coal  \\\n",
       "0                  7.0    1.00     4.00    9.00    3.00       0    2.000   \n",
       "1                  7.0    1.00     4.00    9.00    3.00       0    2.000   \n",
       "2                  7.0    1.00     4.00    9.00    3.00       0    2.000   \n",
       "3                  7.0    1.00     4.00    9.00    3.00       0    2.000   \n",
       "4                  7.0    1.00     4.00    9.00    3.00       0    2.000   \n",
       "...                ...     ...      ...     ...     ...     ...      ...   \n",
       "3972               7.0    3.12    15.32   99.99    5.22       0    7.646   \n",
       "3973               NaN    3.12    15.32   99.99    5.22       0    7.646   \n",
       "3974               NaN    3.12    15.32   99.99    5.22       0    7.646   \n",
       "3975               NaN    3.12    15.32   99.99    5.22       0    7.646   \n",
       "3976               NaN    3.12    15.32   99.99    5.22       0    7.646   \n",
       "\n",
       "      cc_Gas  cc_Bio  \n",
       "0     2.0000  0.5000  \n",
       "1     2.0000  0.5000  \n",
       "2     2.0000  0.5000  \n",
       "3     2.0000  0.5000  \n",
       "4     2.0000  0.5000  \n",
       "...      ...     ...  \n",
       "3972  9.9999  0.8724  \n",
       "3973  9.9999  0.8724  \n",
       "3974  9.9999  0.8724  \n",
       "3975  9.9999  0.8724  \n",
       "3976  9.9999  0.8724  \n",
       "\n",
       "[3977 rows x 70 columns]"
      ]
     },
     "execution_count": 2,
     "metadata": {},
     "output_type": "execute_result"
    }
   ],
   "source": [
    "veriler1 =pd.read_csv(\"1.Seans.csv\")\n",
    "veriler1"
   ]
  },
  {
   "cell_type": "code",
   "execution_count": 3,
   "id": "aab6d56c",
   "metadata": {},
   "outputs": [
    {
     "data": {
      "text/html": [
       "<div>\n",
       "<style scoped>\n",
       "    .dataframe tbody tr th:only-of-type {\n",
       "        vertical-align: middle;\n",
       "    }\n",
       "\n",
       "    .dataframe tbody tr th {\n",
       "        vertical-align: top;\n",
       "    }\n",
       "\n",
       "    .dataframe thead th {\n",
       "        text-align: right;\n",
       "    }\n",
       "</style>\n",
       "<table border=\"1\" class=\"dataframe\">\n",
       "  <thead>\n",
       "    <tr style=\"text-align: right;\">\n",
       "      <th></th>\n",
       "      <th>period</th>\n",
       "      <th>demand</th>\n",
       "      <th>marketPrice</th>\n",
       "      <th>oldMarketPrace</th>\n",
       "      <th>player kazanma</th>\n",
       "      <th>Player1</th>\n",
       "      <th>Player2</th>\n",
       "      <th>Player3</th>\n",
       "      <th>Player4</th>\n",
       "      <th>Player5</th>\n",
       "      <th>...</th>\n",
       "      <th>to_build_period</th>\n",
       "      <th>operation_period</th>\n",
       "      <th>fc_Urn</th>\n",
       "      <th>fc_Coal</th>\n",
       "      <th>fc_Gas</th>\n",
       "      <th>fc_Bio</th>\n",
       "      <th>cc_Urn</th>\n",
       "      <th>cc_Coal</th>\n",
       "      <th>cc_Gas</th>\n",
       "      <th>cc_Bio</th>\n",
       "    </tr>\n",
       "  </thead>\n",
       "  <tbody>\n",
       "    <tr>\n",
       "      <th>count</th>\n",
       "      <td>3977.000000</td>\n",
       "      <td>3977.000000</td>\n",
       "      <td>3977.000000</td>\n",
       "      <td>3977.000000</td>\n",
       "      <td>3977.000000</td>\n",
       "      <td>3977.000000</td>\n",
       "      <td>3977.000000</td>\n",
       "      <td>3977.000000</td>\n",
       "      <td>3977.000000</td>\n",
       "      <td>3977.000000</td>\n",
       "      <td>...</td>\n",
       "      <td>2675.000000</td>\n",
       "      <td>2675.000000</td>\n",
       "      <td>3977.000000</td>\n",
       "      <td>3977.000000</td>\n",
       "      <td>3977.000000</td>\n",
       "      <td>3977.000000</td>\n",
       "      <td>3977.0</td>\n",
       "      <td>3977.000000</td>\n",
       "      <td>3977.000000</td>\n",
       "      <td>3977.000000</td>\n",
       "    </tr>\n",
       "    <tr>\n",
       "      <th>mean</th>\n",
       "      <td>16.149862</td>\n",
       "      <td>97944.161428</td>\n",
       "      <td>108.382198</td>\n",
       "      <td>114.139552</td>\n",
       "      <td>0.718632</td>\n",
       "      <td>0.014081</td>\n",
       "      <td>0.027408</td>\n",
       "      <td>0.045763</td>\n",
       "      <td>0.019361</td>\n",
       "      <td>0.000754</td>\n",
       "      <td>...</td>\n",
       "      <td>2.457570</td>\n",
       "      <td>7.833271</td>\n",
       "      <td>1.596176</td>\n",
       "      <td>8.705675</td>\n",
       "      <td>71.890536</td>\n",
       "      <td>4.031149</td>\n",
       "      <td>0.0</td>\n",
       "      <td>4.346612</td>\n",
       "      <td>8.372928</td>\n",
       "      <td>0.673257</td>\n",
       "    </tr>\n",
       "    <tr>\n",
       "      <th>std</th>\n",
       "      <td>9.007607</td>\n",
       "      <td>62127.362520</td>\n",
       "      <td>83.283085</td>\n",
       "      <td>82.686269</td>\n",
       "      <td>0.449723</td>\n",
       "      <td>0.117840</td>\n",
       "      <td>0.163288</td>\n",
       "      <td>0.208997</td>\n",
       "      <td>0.137809</td>\n",
       "      <td>0.027458</td>\n",
       "      <td>...</td>\n",
       "      <td>1.015573</td>\n",
       "      <td>1.177519</td>\n",
       "      <td>0.544338</td>\n",
       "      <td>3.600398</td>\n",
       "      <td>36.251900</td>\n",
       "      <td>0.667340</td>\n",
       "      <td>0.0</td>\n",
       "      <td>1.795980</td>\n",
       "      <td>2.653632</td>\n",
       "      <td>0.112071</td>\n",
       "    </tr>\n",
       "    <tr>\n",
       "      <th>min</th>\n",
       "      <td>1.000000</td>\n",
       "      <td>26640.000000</td>\n",
       "      <td>1.000000</td>\n",
       "      <td>0.000000</td>\n",
       "      <td>0.000000</td>\n",
       "      <td>0.000000</td>\n",
       "      <td>0.000000</td>\n",
       "      <td>0.000000</td>\n",
       "      <td>0.000000</td>\n",
       "      <td>0.000000</td>\n",
       "      <td>...</td>\n",
       "      <td>2.000000</td>\n",
       "      <td>6.000000</td>\n",
       "      <td>1.000000</td>\n",
       "      <td>4.000000</td>\n",
       "      <td>9.000000</td>\n",
       "      <td>3.000000</td>\n",
       "      <td>0.0</td>\n",
       "      <td>2.000000</td>\n",
       "      <td>2.000000</td>\n",
       "      <td>0.500000</td>\n",
       "    </tr>\n",
       "    <tr>\n",
       "      <th>25%</th>\n",
       "      <td>8.000000</td>\n",
       "      <td>44795.000000</td>\n",
       "      <td>16.000000</td>\n",
       "      <td>10.000000</td>\n",
       "      <td>0.000000</td>\n",
       "      <td>0.000000</td>\n",
       "      <td>0.000000</td>\n",
       "      <td>0.000000</td>\n",
       "      <td>0.000000</td>\n",
       "      <td>0.000000</td>\n",
       "      <td>...</td>\n",
       "      <td>2.000000</td>\n",
       "      <td>7.000000</td>\n",
       "      <td>1.000000</td>\n",
       "      <td>4.100000</td>\n",
       "      <td>32.020000</td>\n",
       "      <td>3.220000</td>\n",
       "      <td>0.0</td>\n",
       "      <td>2.047900</td>\n",
       "      <td>7.120900</td>\n",
       "      <td>0.536800</td>\n",
       "    </tr>\n",
       "    <tr>\n",
       "      <th>50%</th>\n",
       "      <td>17.000000</td>\n",
       "      <td>83025.000000</td>\n",
       "      <td>139.000000</td>\n",
       "      <td>150.000000</td>\n",
       "      <td>1.000000</td>\n",
       "      <td>0.000000</td>\n",
       "      <td>0.000000</td>\n",
       "      <td>0.000000</td>\n",
       "      <td>0.000000</td>\n",
       "      <td>0.000000</td>\n",
       "      <td>...</td>\n",
       "      <td>2.000000</td>\n",
       "      <td>7.000000</td>\n",
       "      <td>1.630000</td>\n",
       "      <td>10.160000</td>\n",
       "      <td>99.990000</td>\n",
       "      <td>4.440000</td>\n",
       "      <td>0.0</td>\n",
       "      <td>5.071500</td>\n",
       "      <td>9.999900</td>\n",
       "      <td>0.742000</td>\n",
       "    </tr>\n",
       "    <tr>\n",
       "      <th>75%</th>\n",
       "      <td>23.000000</td>\n",
       "      <td>131694.000000</td>\n",
       "      <td>200.000000</td>\n",
       "      <td>200.000000</td>\n",
       "      <td>1.000000</td>\n",
       "      <td>0.000000</td>\n",
       "      <td>0.000000</td>\n",
       "      <td>0.000000</td>\n",
       "      <td>0.000000</td>\n",
       "      <td>0.000000</td>\n",
       "      <td>...</td>\n",
       "      <td>2.000000</td>\n",
       "      <td>9.000000</td>\n",
       "      <td>1.930000</td>\n",
       "      <td>11.480000</td>\n",
       "      <td>99.990000</td>\n",
       "      <td>4.490000</td>\n",
       "      <td>0.0</td>\n",
       "      <td>5.730900</td>\n",
       "      <td>9.999900</td>\n",
       "      <td>0.749800</td>\n",
       "    </tr>\n",
       "    <tr>\n",
       "      <th>max</th>\n",
       "      <td>32.000000</td>\n",
       "      <td>246444.000000</td>\n",
       "      <td>200.000000</td>\n",
       "      <td>200.000000</td>\n",
       "      <td>1.000000</td>\n",
       "      <td>1.000000</td>\n",
       "      <td>1.000000</td>\n",
       "      <td>1.000000</td>\n",
       "      <td>1.000000</td>\n",
       "      <td>1.000000</td>\n",
       "      <td>...</td>\n",
       "      <td>5.000000</td>\n",
       "      <td>10.000000</td>\n",
       "      <td>3.120000</td>\n",
       "      <td>15.320000</td>\n",
       "      <td>99.990000</td>\n",
       "      <td>5.220000</td>\n",
       "      <td>0.0</td>\n",
       "      <td>7.646000</td>\n",
       "      <td>9.999900</td>\n",
       "      <td>0.872400</td>\n",
       "    </tr>\n",
       "  </tbody>\n",
       "</table>\n",
       "<p>8 rows × 70 columns</p>\n",
       "</div>"
      ],
      "text/plain": [
       "            period         demand  marketPrice  oldMarketPrace  \\\n",
       "count  3977.000000    3977.000000  3977.000000     3977.000000   \n",
       "mean     16.149862   97944.161428   108.382198      114.139552   \n",
       "std       9.007607   62127.362520    83.283085       82.686269   \n",
       "min       1.000000   26640.000000     1.000000        0.000000   \n",
       "25%       8.000000   44795.000000    16.000000       10.000000   \n",
       "50%      17.000000   83025.000000   139.000000      150.000000   \n",
       "75%      23.000000  131694.000000   200.000000      200.000000   \n",
       "max      32.000000  246444.000000   200.000000      200.000000   \n",
       "\n",
       "       player kazanma      Player1      Player2      Player3      Player4  \\\n",
       "count     3977.000000  3977.000000  3977.000000  3977.000000  3977.000000   \n",
       "mean         0.718632     0.014081     0.027408     0.045763     0.019361   \n",
       "std          0.449723     0.117840     0.163288     0.208997     0.137809   \n",
       "min          0.000000     0.000000     0.000000     0.000000     0.000000   \n",
       "25%          0.000000     0.000000     0.000000     0.000000     0.000000   \n",
       "50%          1.000000     0.000000     0.000000     0.000000     0.000000   \n",
       "75%          1.000000     0.000000     0.000000     0.000000     0.000000   \n",
       "max          1.000000     1.000000     1.000000     1.000000     1.000000   \n",
       "\n",
       "           Player5  ...  to_build_period  operation_period       fc_Urn  \\\n",
       "count  3977.000000  ...      2675.000000       2675.000000  3977.000000   \n",
       "mean      0.000754  ...         2.457570          7.833271     1.596176   \n",
       "std       0.027458  ...         1.015573          1.177519     0.544338   \n",
       "min       0.000000  ...         2.000000          6.000000     1.000000   \n",
       "25%       0.000000  ...         2.000000          7.000000     1.000000   \n",
       "50%       0.000000  ...         2.000000          7.000000     1.630000   \n",
       "75%       0.000000  ...         2.000000          9.000000     1.930000   \n",
       "max       1.000000  ...         5.000000         10.000000     3.120000   \n",
       "\n",
       "           fc_Coal       fc_Gas       fc_Bio  cc_Urn      cc_Coal  \\\n",
       "count  3977.000000  3977.000000  3977.000000  3977.0  3977.000000   \n",
       "mean      8.705675    71.890536     4.031149     0.0     4.346612   \n",
       "std       3.600398    36.251900     0.667340     0.0     1.795980   \n",
       "min       4.000000     9.000000     3.000000     0.0     2.000000   \n",
       "25%       4.100000    32.020000     3.220000     0.0     2.047900   \n",
       "50%      10.160000    99.990000     4.440000     0.0     5.071500   \n",
       "75%      11.480000    99.990000     4.490000     0.0     5.730900   \n",
       "max      15.320000    99.990000     5.220000     0.0     7.646000   \n",
       "\n",
       "            cc_Gas       cc_Bio  \n",
       "count  3977.000000  3977.000000  \n",
       "mean      8.372928     0.673257  \n",
       "std       2.653632     0.112071  \n",
       "min       2.000000     0.500000  \n",
       "25%       7.120900     0.536800  \n",
       "50%       9.999900     0.742000  \n",
       "75%       9.999900     0.749800  \n",
       "max       9.999900     0.872400  \n",
       "\n",
       "[8 rows x 70 columns]"
      ]
     },
     "execution_count": 3,
     "metadata": {},
     "output_type": "execute_result"
    }
   ],
   "source": [
    "veriler1.describe() "
   ]
  },
  {
   "cell_type": "code",
   "execution_count": 4,
   "id": "a69c717d",
   "metadata": {},
   "outputs": [],
   "source": [
    "mPCorr = veriler1.corr()"
   ]
  },
  {
   "cell_type": "code",
   "execution_count": 5,
   "id": "cfad7d49",
   "metadata": {},
   "outputs": [
    {
     "data": {
      "text/plain": [
       "cc_Gas             -0.273884\n",
       "Geothermal         -0.181278\n",
       "CCGT               -0.106152\n",
       "Coal               -0.105788\n",
       "CO_Emission        -0.089871\n",
       "fc_Gas             -0.069778\n",
       "capacityFactor     -0.062895\n",
       "Hydro              -0.026643\n",
       "efficiency         -0.020085\n",
       "Solar              -0.014229\n",
       "capacity            0.016874\n",
       "Wind                0.017102\n",
       "operation_period    0.018632\n",
       "cc_Bio              0.031836\n",
       "fc_Bio              0.032174\n",
       "Nuclear             0.050776\n",
       "to_build_period     0.058009\n",
       "Bioenergy           0.062499\n",
       "investmentCost      0.094313\n",
       "fc_Coal             0.204866\n",
       "cc_Coal             0.205206\n",
       "period              0.266836\n",
       "fc_Urn              0.348456\n",
       "player_bid_price    0.428553\n",
       "demand              0.444704\n",
       "player kazanma      0.586379\n",
       "oldMarketPrace      0.772703\n",
       "marketPrice         1.000000\n",
       "Name: marketPrice, dtype: float64"
      ]
     },
     "execution_count": 5,
     "metadata": {},
     "output_type": "execute_result"
    }
   ],
   "source": [
    "# marketPrice üzerinde etkisi olmayanlar dataframe den silinmiştir. \n",
    "mPCorr=veriler1.drop([\"quant\",\"Player1\",\"Player2\",\"Player3\",\"Player4\",\"Player5\",\"Player6\",\"Player7\",\"Player8\",\"Player9\",\"Player10\",\"Player11\",\"Player12\",\"Player13\",\"Player14\",\"Player15\",\"Player16\",\"Player17\",\"Player18\",\"Player19\",\"Player20\",\"Player21\",\"Player22\",\"Player23\",\"Player24\",\"Player25\",\"Player26\",\"Player27\",\"Player28\",\"Player29\",\"Player30\",\"Player31\",\"Player32\",\"Player33\",\"Player34\",\"Player34\",\"Player35\",\"Player36\",\"Player37\",\"Player38\",\"Player39\",\"pltNum\",\"cc_Urn\"] ,axis=1) \n",
    "mPCorr1 = mPCorr.corr()[\"marketPrice\"].sort_values()\n",
    "#mPCorr1.to_excel(\"mPCorr/1.seans_MP_kolerasyon.xlsx\")\n",
    "mPCorr1"
   ]
  },
  {
   "cell_type": "code",
   "execution_count": 6,
   "id": "f3ef263e",
   "metadata": {},
   "outputs": [
    {
     "name": "stderr",
     "output_type": "stream",
     "text": [
      "C:\\Users\\omerp\\anaconda3\\lib\\site-packages\\seaborn\\distributions.py:2619: FutureWarning: `distplot` is a deprecated function and will be removed in a future version. Please adapt your code to use either `displot` (a figure-level function with similar flexibility) or `histplot` (an axes-level function for histograms).\n",
      "  warnings.warn(msg, FutureWarning)\n"
     ]
    },
    {
     "data": {
      "text/plain": [
       "<AxesSubplot:xlabel='marketPrice', ylabel='Density'>"
      ]
     },
     "execution_count": 6,
     "metadata": {},
     "output_type": "execute_result"
    },
    {
     "data": {
      "image/png": "[encoded data removed]",
      "text/plain": [
       "<Figure size 504x360 with 1 Axes>"
      ]
     },
     "metadata": {
      "needs_background": "light"
     },
     "output_type": "display_data"
    }
   ],
   "source": [
    "plt.figure(figsize=(7,5))\n",
    "sbn.distplot(mPCorr[\"marketPrice\"])"
   ]
  },
  {
   "cell_type": "code",
   "execution_count": 7,
   "id": "002cc429",
   "metadata": {},
   "outputs": [
    {
     "name": "stderr",
     "output_type": "stream",
     "text": [
      "C:\\Users\\omerp\\anaconda3\\lib\\site-packages\\seaborn\\_decorators.py:36: FutureWarning: Pass the following variable as a keyword arg: x. From version 0.12, the only valid positional argument will be `data`, and passing other arguments without an explicit keyword will result in an error or misinterpretation.\n",
      "  warnings.warn(\n"
     ]
    },
    {
     "data": {
      "text/plain": [
       "<AxesSubplot:xlabel='marketPrice', ylabel='count'>"
      ]
     },
     "execution_count": 7,
     "metadata": {},
     "output_type": "execute_result"
    },
    {
     "data": {
      "image/png": "[encoded data removed]",
      "text/plain": [
       "<Figure size 432x288 with 1 Axes>"
      ]
     },
     "metadata": {
      "needs_background": "light"
     },
     "output_type": "display_data"
    }
   ],
   "source": [
    "sbn.countplot(veriler1[\"marketPrice\"])"
   ]
  },
  {
   "cell_type": "code",
   "execution_count": 8,
   "id": "82e7ac1c",
   "metadata": {},
   "outputs": [
    {
     "data": {
      "text/plain": [
       "<AxesSubplot:xlabel='period', ylabel='marketPrice'>"
      ]
     },
     "execution_count": 8,
     "metadata": {},
     "output_type": "execute_result"
    },
    {
     "data": {
      "image/png": "[encoded data removed]",
      "text/plain": [
       "<Figure size 432x288 with 1 Axes>"
      ]
     },
     "metadata": {
      "needs_background": "light"
     },
     "output_type": "display_data"
    }
   ],
   "source": [
    "sbn.scatterplot(x=\"period\",y=\"marketPrice\",data=veriler1)"
   ]
  },
  {
   "cell_type": "code",
   "execution_count": 9,
   "id": "775cd3e5",
   "metadata": {},
   "outputs": [
    {
     "data": {
      "text/plain": [
       "period                 0\n",
       "demand                 0\n",
       "marketPrice            0\n",
       "oldMarketPrace         0\n",
       "player kazanma         0\n",
       "player_bid_price       0\n",
       "Bioenergy              0\n",
       "CCGT                   0\n",
       "Coal                   0\n",
       "Geothermal             0\n",
       "Hydro                  0\n",
       "Nuclear                0\n",
       "Solar                  0\n",
       "Wind                   0\n",
       "capacity            1302\n",
       "investmentCost      1302\n",
       "efficiency          1302\n",
       "capacityFactor      1302\n",
       "CO_Emission         1302\n",
       "to_build_period     1302\n",
       "operation_period    1302\n",
       "fc_Urn                 0\n",
       "fc_Coal                0\n",
       "fc_Gas                 0\n",
       "fc_Bio                 0\n",
       "cc_Coal                0\n",
       "cc_Gas                 0\n",
       "cc_Bio                 0\n",
       "dtype: int64"
      ]
     },
     "execution_count": 9,
     "metadata": {},
     "output_type": "execute_result"
    }
   ],
   "source": [
    "mPCorr.isnull().sum()"
   ]
  },
  {
   "cell_type": "code",
   "execution_count": 10,
   "id": "fe8a3e3e",
   "metadata": {},
   "outputs": [],
   "source": [
    "mPCorr = mPCorr.dropna()"
   ]
  },
  {
   "cell_type": "markdown",
   "id": "a3c0a48e",
   "metadata": {},
   "source": [
    "### Eğitim / Test verisine bölme"
   ]
  },
  {
   "cell_type": "code",
   "execution_count": 11,
   "id": "6d5ed293",
   "metadata": {},
   "outputs": [],
   "source": [
    "from sklearn.model_selection import train_test_split"
   ]
  },
  {
   "cell_type": "code",
   "execution_count": 12,
   "id": "d6041340",
   "metadata": {},
   "outputs": [
    {
     "data": {
      "text/plain": [
       "'liste = list(mPCorr.columns)\\nliste.remove(\"marketPrice\")\\nliste'"
      ]
     },
     "execution_count": 12,
     "metadata": {},
     "output_type": "execute_result"
    }
   ],
   "source": [
    "'''liste = list(mPCorr.columns)\n",
    "liste.remove(\"marketPrice\")\n",
    "liste'''"
   ]
  },
  {
   "cell_type": "code",
   "execution_count": 13,
   "id": "6ee17b18",
   "metadata": {},
   "outputs": [],
   "source": [
    "from sklearn.model_selection import train_test_split\n",
    "\"\"\" Not: x değişkeni herkes tarafından bilinen demand, yakıt fiyatları vb. olmalıdır. Fiyat tahmini yapılacak seneryoda \n",
    "oyuncuların verdidiği teklikler bilinenler içerisinde olmadığında x parametresine atanmamalıdır.\n",
    "x bağımsız değişkenleri tek tek girilmelidir. Burada daha önce oluşturulan kolerasyon ve descipe çıktıları incelenerek \n",
    "karar verilebilir. Sonuca etkisi olmadığı düşünülen kısımların eklenmemesi tercih edilmelidir.\n",
    "y = wx + b\n",
    "y -> label \"\"\"\n",
    "y = mPCorr[\"marketPrice\"].values\n",
    "# x -> feature (özellik)\n",
    "x = mPCorr[[\"oldMarketPrace\",\"player kazanma\",\"player_bid_price\",\"demand\",\"fc_Urn\",\"period\",\"cc_Coal\",\"fc_Coal\",\"investmentCost\",\"Bioenergy\"]].values\n",
    "x_train, x_test, y_train, y_test = train_test_split(x,y,test_size=0.33,random_state=15)"
   ]
  },
  {
   "cell_type": "code",
   "execution_count": 14,
   "id": "5b47edf9",
   "metadata": {},
   "outputs": [
    {
     "data": {
      "text/plain": [
       "(1792, 10)"
      ]
     },
     "execution_count": 14,
     "metadata": {},
     "output_type": "execute_result"
    }
   ],
   "source": [
    "x_train.shape"
   ]
  },
  {
   "cell_type": "code",
   "execution_count": 15,
   "id": "39af8d39",
   "metadata": {},
   "outputs": [
    {
     "data": {
      "text/plain": [
       "(883, 10)"
      ]
     },
     "execution_count": 15,
     "metadata": {},
     "output_type": "execute_result"
    }
   ],
   "source": [
    "x_test.shape"
   ]
  },
  {
   "cell_type": "code",
   "execution_count": 16,
   "id": "ec0c9992",
   "metadata": {},
   "outputs": [
    {
     "data": {
      "text/plain": [
       "(1792,)"
      ]
     },
     "execution_count": 16,
     "metadata": {},
     "output_type": "execute_result"
    }
   ],
   "source": [
    "y_train.shape"
   ]
  },
  {
   "cell_type": "code",
   "execution_count": 17,
   "id": "6472696e",
   "metadata": {},
   "outputs": [
    {
     "data": {
      "text/plain": [
       "(883,)"
      ]
     },
     "execution_count": 17,
     "metadata": {},
     "output_type": "execute_result"
    }
   ],
   "source": [
    "y_test.shape"
   ]
  },
  {
   "cell_type": "markdown",
   "id": "62b04477",
   "metadata": {},
   "source": [
    "### Scaling"
   ]
  },
  {
   "cell_type": "code",
   "execution_count": 18,
   "id": "d694a5d7",
   "metadata": {},
   "outputs": [],
   "source": [
    "from sklearn.preprocessing import MinMaxScaler\n",
    "scaler = MinMaxScaler()\n",
    "x_train = scaler.fit_transform(x_train)\n",
    "x_test = scaler.transform(x_test)"
   ]
  },
  {
   "cell_type": "code",
   "execution_count": 19,
   "id": "72fd87ca",
   "metadata": {},
   "outputs": [],
   "source": [
    "# Metric Libraris\n",
    "\n",
    "from sklearn.metrics import mean_absolute_error         # MAE \n",
    "from sklearn.metrics import mean_squared_error          # MSE \n",
    "                                                        # RMSE\n",
    "from sklearn.metrics import mean_squared_log_error      # RMSLE\n",
    "from sklearn.metrics import r2_score                    # R²  \n",
    "from sklearn.metrics import mean_poisson_deviance       # MAPE\n",
    "from sklearn import metrics"
   ]
  },
  {
   "cell_type": "code",
   "execution_count": 20,
   "id": "0d010b3f",
   "metadata": {},
   "outputs": [],
   "source": [
    "from sklearn.ensemble import RandomForestRegressor\n",
    "#ranReg = RandomForestRegressor(n_estimators=100,max_features=2,max_depth=1,random_state=0)\n",
    "ranReg = RandomForestRegressor(n_estimators=10, max_features=2,criterion='mae',max_depth=1)\n",
    "ranReg.fit(x_train,y_train)\n",
    "y_tahmin = ranReg.predict(x_test)"
   ]
  },
  {
   "cell_type": "code",
   "execution_count": 21,
   "id": "0c7a72a2",
   "metadata": {},
   "outputs": [
    {
     "data": {
      "text/html": [
       "<div>\n",
       "<style scoped>\n",
       "    .dataframe tbody tr th:only-of-type {\n",
       "        vertical-align: middle;\n",
       "    }\n",
       "\n",
       "    .dataframe tbody tr th {\n",
       "        vertical-align: top;\n",
       "    }\n",
       "\n",
       "    .dataframe thead th {\n",
       "        text-align: right;\n",
       "    }\n",
       "</style>\n",
       "<table border=\"1\" class=\"dataframe\">\n",
       "  <thead>\n",
       "    <tr style=\"text-align: right;\">\n",
       "      <th></th>\n",
       "      <th>Gerçek Y</th>\n",
       "    </tr>\n",
       "  </thead>\n",
       "  <tbody>\n",
       "    <tr>\n",
       "      <th>0</th>\n",
       "      <td>200</td>\n",
       "    </tr>\n",
       "    <tr>\n",
       "      <th>1</th>\n",
       "      <td>200</td>\n",
       "    </tr>\n",
       "    <tr>\n",
       "      <th>2</th>\n",
       "      <td>1</td>\n",
       "    </tr>\n",
       "    <tr>\n",
       "      <th>3</th>\n",
       "      <td>16</td>\n",
       "    </tr>\n",
       "    <tr>\n",
       "      <th>4</th>\n",
       "      <td>200</td>\n",
       "    </tr>\n",
       "    <tr>\n",
       "      <th>...</th>\n",
       "      <td>...</td>\n",
       "    </tr>\n",
       "    <tr>\n",
       "      <th>878</th>\n",
       "      <td>22</td>\n",
       "    </tr>\n",
       "    <tr>\n",
       "      <th>879</th>\n",
       "      <td>190</td>\n",
       "    </tr>\n",
       "    <tr>\n",
       "      <th>880</th>\n",
       "      <td>10</td>\n",
       "    </tr>\n",
       "    <tr>\n",
       "      <th>881</th>\n",
       "      <td>1</td>\n",
       "    </tr>\n",
       "    <tr>\n",
       "      <th>882</th>\n",
       "      <td>200</td>\n",
       "    </tr>\n",
       "  </tbody>\n",
       "</table>\n",
       "<p>883 rows × 1 columns</p>\n",
       "</div>"
      ],
      "text/plain": [
       "     Gerçek Y\n",
       "0         200\n",
       "1         200\n",
       "2           1\n",
       "3          16\n",
       "4         200\n",
       "..        ...\n",
       "878        22\n",
       "879       190\n",
       "880        10\n",
       "881         1\n",
       "882       200\n",
       "\n",
       "[883 rows x 1 columns]"
      ]
     },
     "execution_count": 21,
     "metadata": {},
     "output_type": "execute_result"
    }
   ],
   "source": [
    "tahminDf = pd.DataFrame(y_test,columns=[\"Gerçek Y\"])\n",
    "tahminDf"
   ]
  },
  {
   "cell_type": "code",
   "execution_count": 22,
   "id": "4f783536",
   "metadata": {},
   "outputs": [
    {
     "data": {
      "text/plain": [
       "0      199.5\n",
       "1      199.5\n",
       "2       31.6\n",
       "3       31.6\n",
       "4      199.5\n",
       "       ...  \n",
       "878     31.6\n",
       "879     89.1\n",
       "880     13.1\n",
       "881     13.1\n",
       "882    199.5\n",
       "Length: 883, dtype: float64"
      ]
     },
     "execution_count": 22,
     "metadata": {},
     "output_type": "execute_result"
    }
   ],
   "source": [
    "testTahminleri = pd.Series(y_tahmin.reshape(883,))\n",
    "testTahminleri"
   ]
  },
  {
   "cell_type": "code",
   "execution_count": 23,
   "id": "d5557403",
   "metadata": {},
   "outputs": [
    {
     "data": {
      "text/html": [
       "<div>\n",
       "<style scoped>\n",
       "    .dataframe tbody tr th:only-of-type {\n",
       "        vertical-align: middle;\n",
       "    }\n",
       "\n",
       "    .dataframe tbody tr th {\n",
       "        vertical-align: top;\n",
       "    }\n",
       "\n",
       "    .dataframe thead th {\n",
       "        text-align: right;\n",
       "    }\n",
       "</style>\n",
       "<table border=\"1\" class=\"dataframe\">\n",
       "  <thead>\n",
       "    <tr style=\"text-align: right;\">\n",
       "      <th></th>\n",
       "      <th>Gerçek Y</th>\n",
       "      <th>Tahmin Y</th>\n",
       "    </tr>\n",
       "  </thead>\n",
       "  <tbody>\n",
       "    <tr>\n",
       "      <th>0</th>\n",
       "      <td>200</td>\n",
       "      <td>199.5</td>\n",
       "    </tr>\n",
       "    <tr>\n",
       "      <th>1</th>\n",
       "      <td>200</td>\n",
       "      <td>199.5</td>\n",
       "    </tr>\n",
       "    <tr>\n",
       "      <th>2</th>\n",
       "      <td>1</td>\n",
       "      <td>31.6</td>\n",
       "    </tr>\n",
       "    <tr>\n",
       "      <th>3</th>\n",
       "      <td>16</td>\n",
       "      <td>31.6</td>\n",
       "    </tr>\n",
       "    <tr>\n",
       "      <th>4</th>\n",
       "      <td>200</td>\n",
       "      <td>199.5</td>\n",
       "    </tr>\n",
       "    <tr>\n",
       "      <th>...</th>\n",
       "      <td>...</td>\n",
       "      <td>...</td>\n",
       "    </tr>\n",
       "    <tr>\n",
       "      <th>878</th>\n",
       "      <td>22</td>\n",
       "      <td>31.6</td>\n",
       "    </tr>\n",
       "    <tr>\n",
       "      <th>879</th>\n",
       "      <td>190</td>\n",
       "      <td>89.1</td>\n",
       "    </tr>\n",
       "    <tr>\n",
       "      <th>880</th>\n",
       "      <td>10</td>\n",
       "      <td>13.1</td>\n",
       "    </tr>\n",
       "    <tr>\n",
       "      <th>881</th>\n",
       "      <td>1</td>\n",
       "      <td>13.1</td>\n",
       "    </tr>\n",
       "    <tr>\n",
       "      <th>882</th>\n",
       "      <td>200</td>\n",
       "      <td>199.5</td>\n",
       "    </tr>\n",
       "  </tbody>\n",
       "</table>\n",
       "<p>883 rows × 2 columns</p>\n",
       "</div>"
      ],
      "text/plain": [
       "     Gerçek Y  Tahmin Y\n",
       "0         200     199.5\n",
       "1         200     199.5\n",
       "2           1      31.6\n",
       "3          16      31.6\n",
       "4         200     199.5\n",
       "..        ...       ...\n",
       "878        22      31.6\n",
       "879       190      89.1\n",
       "880        10      13.1\n",
       "881         1      13.1\n",
       "882       200     199.5\n",
       "\n",
       "[883 rows x 2 columns]"
      ]
     },
     "execution_count": 23,
     "metadata": {},
     "output_type": "execute_result"
    }
   ],
   "source": [
    "tahminDf= pd.concat([tahminDf,testTahminleri],axis=1)\n",
    "tahminDf.columns = [\"Gerçek Y\", \"Tahmin Y\"]\n",
    "tahminDf.to_excel(\"1.seans_gerçek_tahmin.xlsx\")\n",
    "tahminDf"
   ]
  },
  {
   "cell_type": "code",
   "execution_count": 24,
   "id": "e2654c46",
   "metadata": {},
   "outputs": [
    {
     "data": {
      "text/plain": [
       "<AxesSubplot:xlabel='Gerçek Y', ylabel='Tahmin Y'>"
      ]
     },
     "execution_count": 24,
     "metadata": {},
     "output_type": "execute_result"
    },
    {
     "data": {
      "image/png": "[encoded data removed]",
      "text/plain": [
       "<Figure size 432x288 with 1 Axes>"
      ]
     },
     "metadata": {
      "needs_background": "light"
     },
     "output_type": "display_data"
    }
   ],
   "source": [
    "sbn.scatterplot(x = \"Gerçek Y\", y = \"Tahmin Y\", data = tahminDf)"
   ]
  },
  {
   "cell_type": "code",
   "execution_count": 25,
   "id": "de3975be",
   "metadata": {},
   "outputs": [
    {
     "name": "stdout",
     "output_type": "stream",
     "text": [
      "Mean Squared Error: 1697.3623103057757\n",
      "RSquared: 0.7758951059508077\n"
     ]
    }
   ],
   "source": [
    "print('Mean Squared Error:', metrics.mean_squared_error(y_test, testTahminleri))  \n",
    "print('RSquared:', r2_score(y_test, testTahminleri))"
   ]
  },
  {
   "cell_type": "code",
   "execution_count": 26,
   "id": "d45c2668",
   "metadata": {},
   "outputs": [
    {
     "name": "stderr",
     "output_type": "stream",
     "text": [
      "C:\\Users\\omerp\\anaconda3\\lib\\site-packages\\seaborn\\distributions.py:2619: FutureWarning: `distplot` is a deprecated function and will be removed in a future version. Please adapt your code to use either `displot` (a figure-level function with similar flexibility) or `kdeplot` (an axes-level function for kernel density plots).\n",
      "  warnings.warn(msg, FutureWarning)\n",
      "C:\\Users\\omerp\\anaconda3\\lib\\site-packages\\seaborn\\distributions.py:2619: FutureWarning: `distplot` is a deprecated function and will be removed in a future version. Please adapt your code to use either `displot` (a figure-level function with similar flexibility) or `kdeplot` (an axes-level function for kernel density plots).\n",
      "  warnings.warn(msg, FutureWarning)\n"
     ]
    },
    {
     "data": {
      "image/png": "[encoded data removed]",
      "text/plain": [
       "<Figure size 864x720 with 1 Axes>"
      ]
     },
     "metadata": {
      "needs_background": "light"
     },
     "output_type": "display_data"
    }
   ],
   "source": [
    "y_tahmin = ranReg.predict(x_test)\n",
    "\n",
    "width = 12\n",
    "height = 10\n",
    "plt.figure(figsize=(width, height))\n",
    "\n",
    "ax1 = sbn.distplot(veriler1['marketPrice'], hist=False, color=\"r\", label=\"Actual Value\")\n",
    "sbn.distplot(y_tahmin, hist=False, color=\"b\", label=\"Fitted Values\" , ax=ax1)\n",
    "\n",
    "\n",
    "plt.title('RanReg - Actual vs Fitted Values for marketPrice')\n",
    "plt.xlabel('marketPrice')\n",
    "plt.ylabel('Proportion y_test')\n",
    "plt.legend()\n",
    "plt.show()\n",
    "plt.close()"
   ]
  }
 ],
 "metadata": {
  "kernelspec": {
   "display_name": "Python 3 (ipykernel)",
   "language": "python",
   "name": "python3"
  },
  "language_info": {
   "codemirror_mode": {
    "name": "ipython",
    "version": 3
   },
   "file_extension": ".py",
   "mimetype": "text/x-python",
   "name": "python",
   "nbconvert_exporter": "python",
   "pygments_lexer": "ipython3",
   "version": "3.9.13"
  }
 },
 "nbformat": 4,
 "nbformat_minor": 5
}
